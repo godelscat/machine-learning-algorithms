{
 "cells": [
  {
   "cell_type": "markdown",
   "metadata": {},
   "source": [
    "#### These techs are based on the book *Deep Learning with Python*."
   ]
  },
  {
   "cell_type": "code",
   "execution_count": 1,
   "metadata": {},
   "outputs": [
    {
     "name": "stderr",
     "output_type": "stream",
     "text": [
      "Using TensorFlow backend.\n"
     ]
    }
   ],
   "source": [
    "import numpy as np\n",
    "import pandas as pd\n",
    "import keras \n",
    "from sklearn.model_selection import train_test_split\n",
    "import matplotlib.pyplot as plt"
   ]
  },
  {
   "cell_type": "code",
   "execution_count": 2,
   "metadata": {},
   "outputs": [],
   "source": [
    "# load data, and simply norm\n",
    "raw_data = pd.read_csv(\"../dataset/MNIST/train.csv\")\n",
    "data = raw_data.iloc[:,1:].values\n",
    "labels = keras.utils.to_categorical(raw_data[\"label\"])\n",
    "train_images, test_images, train_labels, test_labels = train_test_split(data, labels)\n",
    "train_images = train_images / 255\n",
    "test_images = test_images / 255"
   ]
  },
  {
   "cell_type": "markdown",
   "metadata": {},
   "source": [
    "### Naive Conv Layer"
   ]
  },
  {
   "cell_type": "code",
   "execution_count": 3,
   "metadata": {},
   "outputs": [
    {
     "name": "stdout",
     "output_type": "stream",
     "text": [
      "(31500, 28, 28, 1) (10500, 28, 28, 1)\n"
     ]
    }
   ],
   "source": [
    "# first reshape images to 2D image\n",
    "train_images = train_images.reshape(train_images.shape[0], 28, 28, -1)\n",
    "test_images = test_images.reshape(test_images.shape[0], 28, 28, -1)\n",
    "print(train_images.shape, test_images.shape)"
   ]
  },
  {
   "cell_type": "code",
   "execution_count": 18,
   "metadata": {},
   "outputs": [],
   "source": [
    "def naive_conv(input_shape=(28, 28, 1)):\n",
    "    model = keras.Sequential()\n",
    "    model.add(keras.layers.Conv2D(32, (3,3), activation='relu', input_shape=input_shape))\n",
    "    model.add(keras.layers.MaxPooling2D((2,2)))\n",
    "    model.add(keras.layers.Conv2D(64, (3,3), activation='relu'))\n",
    "    model.add(keras.layers.MaxPooling2D((2,2)))\n",
    "    model.add(keras.layers.Flatten())\n",
    "    model.add(keras.layers.Dropout(0.4))\n",
    "    model.add(keras.layers.Dense(64, activation='relu'))\n",
    "    model.add(keras.layers.Dense(10, activation='softmax'))\n",
    "    model.compile(optimizer='rmsprop', loss='categorical_crossentropy', metrics=['accuracy'])\n",
    "    return model"
   ]
  },
  {
   "cell_type": "code",
   "execution_count": 19,
   "metadata": {},
   "outputs": [],
   "source": [
    "# hyper params\n",
    "epochs = 20\n",
    "batch_size = 128"
   ]
  },
  {
   "cell_type": "code",
   "execution_count": 20,
   "metadata": {
    "scrolled": true
   },
   "outputs": [
    {
     "name": "stdout",
     "output_type": "stream",
     "text": [
      "Epoch 1/20\n",
      "31500/31500 [==============================] - 2s 77us/step - loss: 0.3377 - acc: 0.8966\n",
      "Epoch 2/20\n",
      "31500/31500 [==============================] - 2s 51us/step - loss: 0.1116 - acc: 0.9656\n",
      "Epoch 3/20\n",
      "31500/31500 [==============================] - 2s 51us/step - loss: 0.0760 - acc: 0.9767\n",
      "Epoch 4/20\n",
      "31500/31500 [==============================] - 2s 51us/step - loss: 0.0625 - acc: 0.9803\n",
      "Epoch 5/20\n",
      "31500/31500 [==============================] - 2s 51us/step - loss: 0.0555 - acc: 0.9833\n",
      "Epoch 6/20\n",
      "31500/31500 [==============================] - 2s 51us/step - loss: 0.0466 - acc: 0.9849\n",
      "Epoch 7/20\n",
      "31500/31500 [==============================] - 2s 50us/step - loss: 0.0413 - acc: 0.9873\n",
      "Epoch 8/20\n",
      "31500/31500 [==============================] - 2s 51us/step - loss: 0.0376 - acc: 0.9884\n",
      "Epoch 9/20\n",
      "31500/31500 [==============================] - 2s 51us/step - loss: 0.0343 - acc: 0.9892\n",
      "Epoch 10/20\n",
      "31500/31500 [==============================] - 2s 51us/step - loss: 0.0297 - acc: 0.9909\n",
      "Epoch 11/20\n",
      "31500/31500 [==============================] - 2s 51us/step - loss: 0.0286 - acc: 0.9907\n",
      "Epoch 12/20\n",
      "31500/31500 [==============================] - 2s 51us/step - loss: 0.0271 - acc: 0.9916\n",
      "Epoch 13/20\n",
      "31500/31500 [==============================] - 2s 51us/step - loss: 0.0231 - acc: 0.9925\n",
      "Epoch 14/20\n",
      "31500/31500 [==============================] - 2s 51us/step - loss: 0.0230 - acc: 0.9925\n",
      "Epoch 15/20\n",
      "31500/31500 [==============================] - 2s 51us/step - loss: 0.0218 - acc: 0.9930\n",
      "Epoch 16/20\n",
      "31500/31500 [==============================] - ETA: 0s - loss: 0.0207 - acc: 0.993 - 2s 51us/step - loss: 0.0206 - acc: 0.9934\n",
      "Epoch 17/20\n",
      "31500/31500 [==============================] - 2s 51us/step - loss: 0.0194 - acc: 0.9937\n",
      "Epoch 18/20\n",
      "31500/31500 [==============================] - 2s 52us/step - loss: 0.0170 - acc: 0.9948\n",
      "Epoch 19/20\n",
      "31500/31500 [==============================] - 2s 50us/step - loss: 0.0174 - acc: 0.9938\n",
      "Epoch 20/20\n",
      "31500/31500 [==============================] - 2s 50us/step - loss: 0.0164 - acc: 0.9949\n"
     ]
    }
   ],
   "source": [
    "naive_conv = naive_conv()\n",
    "naive_hist = naive_conv.fit(train_images, train_labels, epochs=epochs,\n",
    "                           batch_size=batch_size)"
   ]
  },
  {
   "cell_type": "code",
   "execution_count": 21,
   "metadata": {},
   "outputs": [
    {
     "name": "stdout",
     "output_type": "stream",
     "text": [
      "10500/10500 [==============================] - 1s 109us/step\n",
      "0.9911428571428571\n"
     ]
    }
   ],
   "source": [
    "_, acc = naive_conv.evaluate(test_images, test_labels)\n",
    "print(acc)"
   ]
  },
  {
   "cell_type": "code",
   "execution_count": null,
   "metadata": {},
   "outputs": [],
   "source": []
  }
 ],
 "metadata": {
  "kernelspec": {
   "display_name": "Python 3",
   "language": "python",
   "name": "python3"
  },
  "language_info": {
   "codemirror_mode": {
    "name": "ipython",
    "version": 3
   },
   "file_extension": ".py",
   "mimetype": "text/x-python",
   "name": "python",
   "nbconvert_exporter": "python",
   "pygments_lexer": "ipython3",
   "version": "3.6.7"
  }
 },
 "nbformat": 4,
 "nbformat_minor": 2
}
