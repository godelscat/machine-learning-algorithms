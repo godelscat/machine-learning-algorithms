{
 "cells": [
  {
   "cell_type": "markdown",
   "metadata": {},
   "source": [
    "#### These techs are based on the book *Deep Learning with Python*."
   ]
  },
  {
   "cell_type": "code",
   "execution_count": 1,
   "metadata": {},
   "outputs": [
    {
     "name": "stderr",
     "output_type": "stream",
     "text": [
      "Using TensorFlow backend.\n"
     ]
    }
   ],
   "source": [
    "import numpy as np\n",
    "import pandas as pd\n",
    "import keras \n",
    "from sklearn.model_selection import train_test_split\n",
    "import matplotlib.pyplot as plt"
   ]
  },
  {
   "cell_type": "code",
   "execution_count": 2,
   "metadata": {},
   "outputs": [],
   "source": [
    "# load data, and simply norm\n",
    "raw_data = pd.read_csv(\"../dataset/MNIST/train.csv\")\n",
    "data = raw_data.iloc[:,1:].values\n",
    "labels = keras.utils.to_categorical(raw_data[\"label\"])\n",
    "train_images, test_images, train_labels, test_labels = train_test_split(data, labels)\n",
    "train_images = train_images / 255\n",
    "test_images = test_images / 255"
   ]
  },
  {
   "cell_type": "markdown",
   "metadata": {},
   "source": [
    "### Naive Conv Layer"
   ]
  },
  {
   "cell_type": "code",
   "execution_count": 3,
   "metadata": {},
   "outputs": [
    {
     "name": "stdout",
     "output_type": "stream",
     "text": [
      "(31500, 28, 28, 1) (10500, 28, 28, 1)\n"
     ]
    }
   ],
   "source": [
    "# first reshape images to 2D image\n",
    "train_images = train_images.reshape(train_images.shape[0], 28, 28, -1)\n",
    "test_images = test_images.reshape(test_images.shape[0], 28, 28, -1)\n",
    "print(train_images.shape, test_images.shape)"
   ]
  },
  {
   "cell_type": "code",
   "execution_count": 53,
   "metadata": {},
   "outputs": [],
   "source": [
    "def naive_conv(input_shape=(28, 28, 1)):\n",
    "    model = keras.Sequential()\n",
    "    model.add(keras.layers.Conv2D(32, (3,3), activation='relu', input_shape=input_shape))\n",
    "    model.add(keras.layers.MaxPooling2D((2,2)))\n",
    "    model.add(keras.layers.Conv2D(64, (3,3), activation='relu'))\n",
    "    model.add(keras.layers.MaxPooling2D((2,2)))\n",
    "    model.add(keras.layers.Flatten())\n",
    "    model.add(keras.layers.Dropout(0.4))\n",
    "    model.add(keras.layers.Dense(64, activation='relu'))\n",
    "    model.add(keras.layers.Dense(10, activation='softmax'))\n",
    "    model.compile(optimizer='rmsprop', loss='categorical_crossentropy', metrics=['accuracy'])\n",
    "    model.summary()\n",
    "    return model"
   ]
  },
  {
   "cell_type": "code",
   "execution_count": 54,
   "metadata": {},
   "outputs": [],
   "source": [
    "# hyper params\n",
    "epochs = 20\n",
    "batch_size = 128"
   ]
  },
  {
   "cell_type": "code",
   "execution_count": null,
   "metadata": {
    "scrolled": true
   },
   "outputs": [],
   "source": [
    "naive_conv = naive_conv()\n",
    "naive_hist = naive_conv.fit(train_images, train_labels, epochs=epochs,\n",
    "                           batch_size=batch_size)"
   ]
  },
  {
   "cell_type": "code",
   "execution_count": 21,
   "metadata": {},
   "outputs": [
    {
     "name": "stdout",
     "output_type": "stream",
     "text": [
      "10500/10500 [==============================] - 1s 109us/step\n",
      "0.9911428571428571\n"
     ]
    }
   ],
   "source": [
    "_, acc = naive_conv.evaluate(test_images, test_labels)\n",
    "print(acc)"
   ]
  },
  {
   "cell_type": "markdown",
   "metadata": {},
   "source": [
    "Because MNIST dataset is too simple for CNN, we extract only 2000 samples for training and 1000 for testing."
   ]
  },
  {
   "cell_type": "code",
   "execution_count": 4,
   "metadata": {},
   "outputs": [],
   "source": [
    "small_train_images = train_images[:2000]\n",
    "small_test_images = test_images[:1000]\n",
    "small_train_labels = train_labels[:2000]\n",
    "small_test_labels = test_labels[:1000]"
   ]
  },
  {
   "cell_type": "markdown",
   "metadata": {},
   "source": [
    "### Data Augmentation "
   ]
  },
  {
   "cell_type": "code",
   "execution_count": 5,
   "metadata": {},
   "outputs": [],
   "source": [
    "from keras.preprocessing.image import ImageDataGenerator\n",
    "\n",
    "train_datagen = ImageDataGenerator(rotation_range=10, width_shift_range=0.1, height_shift_range=0.1,\n",
    "                            shear_range=0.1, zoom_range=0.2, horizontal_flip=True)\n",
    "train_generator = train_datagen.flow(small_train_images, small_train_labels, \n",
    "                                     batch_size=64)"
   ]
  },
  {
   "cell_type": "code",
   "execution_count": 52,
   "metadata": {},
   "outputs": [
    {
     "name": "stdout",
     "output_type": "stream",
     "text": [
      "(28, 28, 1)\n"
     ]
    },
    {
     "data": {
      "image/png": "[encoded data removed]",
      "text/plain": [
       "<Figure size 432x288 with 1 Axes>"
      ]
     },
     "metadata": {
      "needs_background": "light"
     },
     "output_type": "display_data"
    },
    {
     "data": {
      "image/png": "[encoded data removed]",
      "text/plain": [
       "<Figure size 432x288 with 1 Axes>"
      ]
     },
     "metadata": {
      "needs_background": "light"
     },
     "output_type": "display_data"
    }
   ],
   "source": [
    "# visualize augmented image\n",
    "vis_image = small_train_images[0]\n",
    "plt.figure(1)\n",
    "plt.imshow(vis_image.reshape(28, 28))\n",
    "print(vis_image.shape)\n",
    "transform_parameters = {'theta':20}\n",
    "rotated_image = ImageDataGenerator().apply_transform(vis_image,transform_parameters=transform_parameters)\n",
    "plt.figure(2)\n",
    "plt.imshow(rotated_image.reshape(28, 28))\n",
    "plt.show()"
   ]
  },
  {
   "cell_type": "code",
   "execution_count": null,
   "metadata": {},
   "outputs": [],
   "source": [
    "aug_model = naive_conv()\n",
    "aug_history = aug_model.fit_generator(train_generator, steps_per_epoch=\n",
    "                                     small_train_images.shape[0]//64,\n",
    "                                     epochs=100)"
   ]
  },
  {
   "cell_type": "code",
   "execution_count": 28,
   "metadata": {},
   "outputs": [
    {
     "name": "stdout",
     "output_type": "stream",
     "text": [
      "10500/10500 [==============================] - 1s 61us/step\n",
      "0.9745714285714285\n"
     ]
    }
   ],
   "source": [
    "_, aug_acc = aug_model.evaluate(test_images, test_labels)\n",
    "print(aug_acc)"
   ]
  },
  {
   "cell_type": "code",
   "execution_count": null,
   "metadata": {},
   "outputs": [],
   "source": [
    "nav_model = naive_conv()\n",
    "naiv_history = nav_model.fit(small_train_images, small_train_labels, epochs=100, \n",
    "                            batch_size=64, validation_split=0.2)"
   ]
  },
  {
   "cell_type": "code",
   "execution_count": 25,
   "metadata": {},
   "outputs": [
    {
     "name": "stdout",
     "output_type": "stream",
     "text": [
      "10500/10500 [==============================] - 1s 98us/step\n",
      "0.9654285714285714\n"
     ]
    }
   ],
   "source": [
    "_, nav_acc = nav_model.evaluate(test_images, test_labels)\n",
    "print(nav_acc)"
   ]
  }
 ],
 "metadata": {
  "kernelspec": {
   "display_name": "Python 3",
   "language": "python",
   "name": "python3"
  },
  "language_info": {
   "codemirror_mode": {
    "name": "ipython",
    "version": 3
   },
   "file_extension": ".py",
   "mimetype": "text/x-python",
   "name": "python",
   "nbconvert_exporter": "python",
   "pygments_lexer": "ipython3",
   "version": "3.6.7"
  }
 },
 "nbformat": 4,
 "nbformat_minor": 2
}
